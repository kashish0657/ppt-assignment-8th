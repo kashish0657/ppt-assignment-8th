{
 "cells": [
  {
   "cell_type": "markdown",
   "id": "e11f6bc7-4c3d-42d4-aa4e-6d6a9d28a777",
   "metadata": {},
   "source": [
    "## PPT ASSIGNMENT 8th"
   ]
  },
  {
   "cell_type": "markdown",
   "id": "0dafebeb-fed2-4b9a-9862-241d370afcb4",
   "metadata": {},
   "source": [
    "## 1:ans:-"
   ]
  },
  {
   "cell_type": "code",
   "execution_count": 1,
   "id": "f405a149-feac-4754-ab8f-12ae108ecfc5",
   "metadata": {},
   "outputs": [],
   "source": [
    "def minimumDeleteSum(s1, s2):\n",
    "    m, n = len(s1), len(s2)\n",
    "    dp = [[0] * (n+1) for _ in range(m+1)]\n",
    "\n",
    "    # Initialize first row and column\n",
    "    for i in range(1, m+1):\n",
    "        dp[i][0] = dp[i-1][0] + ord(s1[i-1])\n",
    "    for j in range(1, n+1):\n",
    "        dp[0][j] = dp[0][j-1] + ord(s2[j-1])\n",
    "\n",
    "    # Fill the dp matrix\n",
    "    for i in range(1, m+1):\n",
    "        for j in range(1, n+1):\n",
    "            if s1[i-1] == s2[j-1]:\n",
    "                dp[i][j] = dp[i-1][j-1]\n",
    "            else:\n",
    "                dp[i][j] = min(dp[i-1][j] + ord(s1[i-1]), dp[i][j-1] + ord(s2[j-1]))\n",
    "\n",
    "    return dp[m][n]\n"
   ]
  },
  {
   "cell_type": "code",
   "execution_count": 2,
   "id": "d27a4ee5-7a6c-440d-936f-4f7a742a04be",
   "metadata": {},
   "outputs": [
    {
     "name": "stdout",
     "output_type": "stream",
     "text": [
      "403\n"
     ]
    }
   ],
   "source": [
    "s1 = \"delete\"\n",
    "s2 = \"leet\"\n",
    "result = minimumDeleteSum(s1, s2)\n",
    "print(result)  \n"
   ]
  },
  {
   "cell_type": "markdown",
   "id": "b294de7b-3ff0-4ae1-ae76-8d55318ab137",
   "metadata": {},
   "source": [
    "## 2:ans:-"
   ]
  },
  {
   "cell_type": "code",
   "execution_count": 3,
   "id": "5bd9dffd-8681-47ec-9adb-c1d59ad4f11e",
   "metadata": {},
   "outputs": [],
   "source": [
    "def is_valid(s):\n",
    "    stack = []\n",
    "    for c in s:\n",
    "        if c == '(' or c == '*':\n",
    "            stack.append(c)\n",
    "        elif c == ')':\n",
    "            if stack and stack[-1] == '(':\n",
    "                stack.pop()\n",
    "            elif stack and stack[-1] == '*':\n",
    "                stack.pop()\n",
    "            else:\n",
    "                return False\n",
    "    return len(stack) == 0\n"
   ]
  },
  {
   "cell_type": "code",
   "execution_count": 4,
   "id": "c7d7292b-3bb2-48b9-a73a-83f47744ce2f",
   "metadata": {},
   "outputs": [
    {
     "name": "stdout",
     "output_type": "stream",
     "text": [
      "False\n",
      "False\n",
      "True\n",
      "False\n"
     ]
    }
   ],
   "source": [
    "s = \"(*()()\"\n",
    "print(is_valid(s))  \n",
    "\n",
    "s = \"((*)\"\n",
    "print(is_valid(s))  \n",
    "\n",
    "s = \"(*))\"\n",
    "print(is_valid(s))  \n",
    "\n",
    "s = \"((((\"\n",
    "print(is_valid(s))  \n"
   ]
  },
  {
   "cell_type": "markdown",
   "id": "60c3a685-1aa1-442e-94d1-11dc680a59e5",
   "metadata": {},
   "source": [
    "## 3:ans:-"
   ]
  },
  {
   "cell_type": "code",
   "execution_count": 5,
   "id": "56d55c7f-b82e-47a3-ba5c-4bae2e85092a",
   "metadata": {},
   "outputs": [],
   "source": [
    "def minDistance(word1, word2):\n",
    "    m, n = len(word1), len(word2)\n",
    "\n",
    "    # Create a 2D table to store the minimum steps\n",
    "    dp = [[0] * (n + 1) for _ in range(m + 1)]\n",
    "\n",
    "    # Initialize the base cases\n",
    "    for i in range(m + 1):\n",
    "        dp[i][0] = i\n",
    "    for j in range(n + 1):\n",
    "        dp[0][j] = j\n",
    "\n",
    "    # Fill in the table using dynamic programming\n",
    "    for i in range(1, m + 1):\n",
    "        for j in range(1, n + 1):\n",
    "            if word1[i - 1] == word2[j - 1]:\n",
    "                dp[i][j] = dp[i - 1][j - 1]\n",
    "            else:\n",
    "                dp[i][j] = 1 + min(dp[i - 1][j], dp[i][j - 1])\n",
    "\n",
    "    return dp[m][n]\n"
   ]
  },
  {
   "cell_type": "markdown",
   "id": "60e48bc9-ee12-4310-978c-243de5d42dd6",
   "metadata": {},
   "source": [
    "## 4:ans:-"
   ]
  },
  {
   "cell_type": "code",
   "execution_count": 10,
   "id": "f07a47a1-a7a7-4666-990a-ad8fdceb36a4",
   "metadata": {},
   "outputs": [],
   "source": [
    "class TreeNode:\n",
    "    def __init__(self, val=0, left=None, right=None):\n",
    "        self.val = val\n",
    "        self.left = left\n",
    "        self.right = right\n",
    "\n",
    "def construct_binary_tree(s):\n",
    "    if not s:\n",
    "        return None\n",
    "    \n",
    "    # Find the first opening parenthesis\n",
    "    i = s.find('(')\n",
    "    \n",
    "    # If no opening parenthesis is found, the entire string represents a single node\n",
    "    if i == -1:\n",
    "        return TreeNode(int(s))\n",
    "    \n",
    "    # Construct the root node\n",
    "    root_val = int(s[:i])\n",
    "    root = TreeNode(root_val)\n",
    "    \n",
    "    # Find the substring representing the left child tree\n",
    "    j = find_matching_parenthesis(s[i:])\n",
    "    root.left = construct_binary_tree(s[i+1:i+j])\n",
    "    \n",
    "    # Find the substring representing the right child tree, if it exists\n",
    "    if i+j+1 < len(s)-1:\n",
    "        root.right = construct_binary_tree(s[i+j+2:-1])\n",
    "    \n",
    "    return root\n",
    "\n",
    "def find_matching_parenthesis(s):\n",
    "    count = 0\n",
    "    for i, char in enumerate(s):\n",
    "        if char == '(':\n",
    "            count += 1\n",
    "        elif char == ')':\n",
    "            count -= 1\n",
    "            if count == 0:\n",
    "                return i\n",
    "    return -1\n"
   ]
  },
  {
   "cell_type": "code",
   "execution_count": 11,
   "id": "8c078ec9-7f1e-490d-8a56-f19eb3a369a1",
   "metadata": {},
   "outputs": [],
   "source": [
    "tree_string = \"4(2(3)(1))(6(5))\"\n",
    "root = construct_binary_tree(tree_string)\n"
   ]
  },
  {
   "cell_type": "markdown",
   "id": "7a3e44d7-ff02-40e1-b9da-c86cfb738f89",
   "metadata": {},
   "source": [
    "## 5:ans:-"
   ]
  },
  {
   "cell_type": "code",
   "execution_count": 12,
   "id": "dd7cf398-aa0b-47d1-a4ad-08457149cf0c",
   "metadata": {},
   "outputs": [],
   "source": [
    "def compress(chars):\n",
    "    readPtr = writePtr = 0\n",
    "    count = 1\n",
    "\n",
    "    for i in range(1, len(chars)):\n",
    "        if chars[i] == chars[i - 1]:\n",
    "            count += 1\n",
    "        else:\n",
    "            chars[writePtr] = chars[readPtr]\n",
    "            writePtr += 1\n",
    "\n",
    "            if count > 1:\n",
    "                countStr = str(count)\n",
    "                for digit in countStr:\n",
    "                    chars[writePtr] = digit\n",
    "                    writePtr += 1\n",
    "\n",
    "                count = 1\n",
    "\n",
    "        readPtr += 1\n",
    "\n",
    "    chars[writePtr] = chars[readPtr]\n",
    "    writePtr += 1\n",
    "\n",
    "    if count > 1:\n",
    "        countStr = str(count)\n",
    "        for digit in countStr:\n",
    "            chars[writePtr] = digit\n",
    "            writePtr += 1\n",
    "\n",
    "    return writePtr\n"
   ]
  },
  {
   "cell_type": "code",
   "execution_count": 13,
   "id": "357af5a2-33bf-4221-a21f-d18244666fb8",
   "metadata": {},
   "outputs": [
    {
     "name": "stdout",
     "output_type": "stream",
     "text": [
      "6\n",
      "['a', '2', 'b', '2', 'c', '3']\n"
     ]
    }
   ],
   "source": [
    "chars = ['a', 'a', 'b', 'b', 'c', 'c', 'c']\n",
    "new_length = compress(chars)\n",
    "print(new_length)  \n",
    "print(chars[:new_length])  \n"
   ]
  },
  {
   "cell_type": "markdown",
   "id": "82ea0d7b-5732-4b58-bb4d-8ea420d79ef4",
   "metadata": {},
   "source": [
    "## 6:ans:-"
   ]
  },
  {
   "cell_type": "code",
   "execution_count": 14,
   "id": "7951f122-42ae-4c05-b049-d6e1875fc63a",
   "metadata": {},
   "outputs": [],
   "source": [
    "from collections import Counter\n",
    "\n",
    "def find_anagrams(s, p):\n",
    "    result = []\n",
    "    len_s, len_p = len(s), len(p)\n",
    "    \n",
    "    # Create frequency maps for strings p and the initial window in s\n",
    "    p_freq = Counter(p)\n",
    "    window_freq = Counter(s[:len_p])\n",
    "    \n",
    "    # Compare frequency maps of the window with p\n",
    "    if window_freq == p_freq:\n",
    "        result.append(0)\n",
    "    \n",
    "    # Slide the window over s\n",
    "    for i in range(1, len_s - len_p + 1):\n",
    "        # Remove the leftmost character from the window\n",
    "        if window_freq[s[i - 1]] == 1:\n",
    "            del window_freq[s[i - 1]]\n",
    "        else:\n",
    "            window_freq[s[i - 1]] -= 1\n",
    "        \n",
    "        # Add the rightmost character to the window\n",
    "        window_freq[s[i + len_p - 1]] += 1\n",
    "        \n",
    "        # Compare frequency maps of the window with p\n",
    "        if window_freq == p_freq:\n",
    "            result.append(i)\n",
    "    \n",
    "    return result\n"
   ]
  },
  {
   "cell_type": "code",
   "execution_count": 15,
   "id": "915733ce-3c69-4d3b-9f8f-0ee7a71a9299",
   "metadata": {},
   "outputs": [
    {
     "name": "stdout",
     "output_type": "stream",
     "text": [
      "[0, 6]\n"
     ]
    }
   ],
   "source": [
    "s = \"cbaebabacd\"\n",
    "p = \"abc\"\n",
    "print(find_anagrams(s, p))\n"
   ]
  },
  {
   "cell_type": "markdown",
   "id": "41394df2-42b4-4ab3-b478-d1630b8f555f",
   "metadata": {},
   "source": [
    "## 8:ans:-"
   ]
  },
  {
   "cell_type": "code",
   "execution_count": 16,
   "id": "422aac43-9269-4b32-8ccf-3ece36899bec",
   "metadata": {},
   "outputs": [],
   "source": [
    "def can_swap_letters(a, goal):\n",
    "    if len(a) != len(goal):\n",
    "        return False\n",
    "\n",
    "    firstIndex = -1\n",
    "    secondIndex = -1\n",
    "\n",
    "    for i in range(len(a)):\n",
    "        if a[i] != goal[i]:\n",
    "            if firstIndex == -1:\n",
    "                firstIndex = i\n",
    "            elif secondIndex == -1:\n",
    "                secondIndex = i\n",
    "            else:\n",
    "                return False\n",
    "\n",
    "    if firstIndex != -1 and secondIndex != -1:\n",
    "        swapped_a = list(a)\n",
    "        swapped_a[firstIndex], swapped_a[secondIndex] = swapped_a[secondIndex], swapped_a[firstIndex]\n",
    "        if ''.join(swapped_a) == goal:\n",
    "            return True\n",
    "\n",
    "    return False\n"
   ]
  },
  {
   "cell_type": "code",
   "execution_count": null,
   "id": "1dc56516-3a3a-4f95-9789-88ca70eff50d",
   "metadata": {},
   "outputs": [],
   "source": []
  },
  {
   "cell_type": "code",
   "execution_count": null,
   "id": "27474774-da47-42a5-be87-2d9baf023366",
   "metadata": {},
   "outputs": [],
   "source": []
  },
  {
   "cell_type": "code",
   "execution_count": null,
   "id": "61f8f417-7ae6-4e06-bb4c-f584654bde63",
   "metadata": {},
   "outputs": [],
   "source": []
  },
  {
   "cell_type": "code",
   "execution_count": null,
   "id": "df8a3ab9-5980-46f8-b294-5e6f8dd228f1",
   "metadata": {},
   "outputs": [],
   "source": []
  },
  {
   "cell_type": "code",
   "execution_count": null,
   "id": "fb5a487a-be03-4e15-9944-7a9c7f9619b6",
   "metadata": {},
   "outputs": [],
   "source": []
  },
  {
   "cell_type": "code",
   "execution_count": null,
   "id": "2ce24e6a-043f-4056-9565-bd62e427a913",
   "metadata": {},
   "outputs": [],
   "source": []
  }
 ],
 "metadata": {
  "kernelspec": {
   "display_name": "Python 3 (ipykernel)",
   "language": "python",
   "name": "python3"
  },
  "language_info": {
   "codemirror_mode": {
    "name": "ipython",
    "version": 3
   },
   "file_extension": ".py",
   "mimetype": "text/x-python",
   "name": "python",
   "nbconvert_exporter": "python",
   "pygments_lexer": "ipython3",
   "version": "3.10.8"
  }
 },
 "nbformat": 4,
 "nbformat_minor": 5
}
